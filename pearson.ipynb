{
 "cells": [
  {
   "cell_type": "code",
   "execution_count": 1,
   "metadata": {},
   "outputs": [],
   "source": [
    "import pandas as pd"
   ]
  },
  {
   "cell_type": "code",
   "execution_count": 3,
   "metadata": {},
   "outputs": [
    {
     "data": {
      "text/html": [
       "<div>\n",
       "<style scoped>\n",
       "    .dataframe tbody tr th:only-of-type {\n",
       "        vertical-align: middle;\n",
       "    }\n",
       "\n",
       "    .dataframe tbody tr th {\n",
       "        vertical-align: top;\n",
       "    }\n",
       "\n",
       "    .dataframe thead th {\n",
       "        text-align: right;\n",
       "    }\n",
       "</style>\n",
       "<table border=\"1\" class=\"dataframe\">\n",
       "  <thead>\n",
       "    <tr style=\"text-align: right;\">\n",
       "      <th></th>\n",
       "      <th>class</th>\n",
       "      <th>NOCom</th>\n",
       "      <th>NCLOC</th>\n",
       "      <th>DCP</th>\n",
       "    </tr>\n",
       "  </thead>\n",
       "  <tbody>\n",
       "    <tr>\n",
       "      <th>0</th>\n",
       "      <td>./src/main/java/org/jfree/chart/annotations/Ab...</td>\n",
       "      <td>4</td>\n",
       "      <td>68</td>\n",
       "      <td>65.66</td>\n",
       "    </tr>\n",
       "    <tr>\n",
       "      <th>1</th>\n",
       "      <td>./src/main/java/org/jfree/chart/annotations/Ab...</td>\n",
       "      <td>6</td>\n",
       "      <td>77</td>\n",
       "      <td>58.60</td>\n",
       "    </tr>\n",
       "    <tr>\n",
       "      <th>2</th>\n",
       "      <td>./src/main/java/org/jfree/chart/annotations/An...</td>\n",
       "      <td>5</td>\n",
       "      <td>7</td>\n",
       "      <td>87.72</td>\n",
       "    </tr>\n",
       "    <tr>\n",
       "      <th>3</th>\n",
       "      <td>./src/main/java/org/jfree/chart/annotations/Ca...</td>\n",
       "      <td>4</td>\n",
       "      <td>10</td>\n",
       "      <td>83.33</td>\n",
       "    </tr>\n",
       "    <tr>\n",
       "      <th>4</th>\n",
       "      <td>./src/main/java/org/jfree/chart/annotations/Ca...</td>\n",
       "      <td>12</td>\n",
       "      <td>198</td>\n",
       "      <td>49.23</td>\n",
       "    </tr>\n",
       "    <tr>\n",
       "      <th>...</th>\n",
       "      <td>...</td>\n",
       "      <td>...</td>\n",
       "      <td>...</td>\n",
       "      <td>...</td>\n",
       "    </tr>\n",
       "    <tr>\n",
       "      <th>627</th>\n",
       "      <td>./src/main/java/org/jfree/data/xy/YIntervalDat...</td>\n",
       "      <td>5</td>\n",
       "      <td>37</td>\n",
       "      <td>64.08</td>\n",
       "    </tr>\n",
       "    <tr>\n",
       "      <th>628</th>\n",
       "      <td>./src/main/java/org/jfree/data/xy/YIntervalSer...</td>\n",
       "      <td>3</td>\n",
       "      <td>39</td>\n",
       "      <td>76.07</td>\n",
       "    </tr>\n",
       "    <tr>\n",
       "      <th>629</th>\n",
       "      <td>./src/main/java/org/jfree/data/xy/YIntervalSer...</td>\n",
       "      <td>12</td>\n",
       "      <td>122</td>\n",
       "      <td>61.99</td>\n",
       "    </tr>\n",
       "    <tr>\n",
       "      <th>630</th>\n",
       "      <td>./src/main/java/org/jfree/data/xy/YisSymbolic....</td>\n",
       "      <td>4</td>\n",
       "      <td>6</td>\n",
       "      <td>91.78</td>\n",
       "    </tr>\n",
       "    <tr>\n",
       "      <th>631</th>\n",
       "      <td>./src/main/java/org/jfree/data/xy/YWithXInterv...</td>\n",
       "      <td>4</td>\n",
       "      <td>41</td>\n",
       "      <td>64.66</td>\n",
       "    </tr>\n",
       "  </tbody>\n",
       "</table>\n",
       "<p>632 rows × 4 columns</p>\n",
       "</div>"
      ],
      "text/plain": [
       "                                                 class   NOCom   NCLOC    DCP\n",
       "0    ./src/main/java/org/jfree/chart/annotations/Ab...       4      68  65.66\n",
       "1    ./src/main/java/org/jfree/chart/annotations/Ab...       6      77  58.60\n",
       "2    ./src/main/java/org/jfree/chart/annotations/An...       5       7  87.72\n",
       "3    ./src/main/java/org/jfree/chart/annotations/Ca...       4      10  83.33\n",
       "4    ./src/main/java/org/jfree/chart/annotations/Ca...      12     198  49.23\n",
       "..                                                 ...     ...     ...    ...\n",
       "627  ./src/main/java/org/jfree/data/xy/YIntervalDat...       5      37  64.08\n",
       "628  ./src/main/java/org/jfree/data/xy/YIntervalSer...       3      39  76.07\n",
       "629  ./src/main/java/org/jfree/data/xy/YIntervalSer...      12     122  61.99\n",
       "630  ./src/main/java/org/jfree/data/xy/YisSymbolic....       4       6  91.78\n",
       "631  ./src/main/java/org/jfree/data/xy/YWithXInterv...       4      41  64.66\n",
       "\n",
       "[632 rows x 4 columns]"
      ]
     },
     "execution_count": 3,
     "metadata": {},
     "output_type": "execute_result"
    }
   ],
   "source": [
    "df = pd.read_csv('jfreechart-stats.csv')\n",
    "df"
   ]
  },
  {
   "cell_type": "code",
   "execution_count": 9,
   "metadata": {},
   "outputs": [
    {
     "data": {
      "text/plain": [
       "-0.5335180851612711"
      ]
     },
     "execution_count": 9,
     "metadata": {},
     "output_type": "execute_result"
    }
   ],
   "source": [
    "# calculer la correlation de spearman entre NOCom et DCP\n",
    "\n",
    "df[' NOCom'].corr(df[' DCP'],method='spearman')"
   ]
  },
  {
   "cell_type": "code",
   "execution_count": null,
   "metadata": {},
   "outputs": [],
   "source": []
  }
 ],
 "metadata": {
  "kernelspec": {
   "display_name": "Python 3.9.1 64-bit",
   "language": "python",
   "name": "python3"
  },
  "language_info": {
   "codemirror_mode": {
    "name": "ipython",
    "version": 3
   },
   "file_extension": ".py",
   "mimetype": "text/x-python",
   "name": "python",
   "nbconvert_exporter": "python",
   "pygments_lexer": "ipython3",
   "version": "3.9.1"
  },
  "orig_nbformat": 4,
  "vscode": {
   "interpreter": {
    "hash": "bc34dad1d1ced69d9fd7976373540906c9125d33cca3b4cb19168e34ca0eb6b7"
   }
  }
 },
 "nbformat": 4,
 "nbformat_minor": 2
}
